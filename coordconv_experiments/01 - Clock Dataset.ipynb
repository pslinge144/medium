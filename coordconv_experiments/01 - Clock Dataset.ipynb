{
 "cells": [
  {
   "cell_type": "code",
   "execution_count": 2,
   "metadata": {
    "collapsed": true
   },
   "outputs": [],
   "source": [
    "import os\n",
    "import numpy as np\n",
    "import matplotlib.pyplot as plt\n",
    "import matplotlib.lines as mlines\n",
    "\n",
    "import math\n",
    "\n",
    "%matplotlib inline"
   ]
  },
  {
   "cell_type": "code",
   "execution_count": 3,
   "metadata": {
    "collapsed": true
   },
   "outputs": [],
   "source": [
    "img_height, img_width = 128, 128\n",
    "nb_channels = 1"
   ]
  },
  {
   "cell_type": "code",
   "execution_count": 14,
   "metadata": {},
   "outputs": [
    {
     "data": {
      "image/png": "[encoded data removed]",
      "text/plain": [
       "<matplotlib.figure.Figure at 0x7ff577963fd0>"
      ]
     },
     "metadata": {},
     "output_type": "display_data"
    }
   ],
   "source": [
    "fig, ax = plt.subplots(figsize=(4,4))\n",
    "\n",
    "corr = (15. / 60.) * 2 * math.pi\n",
    "\n",
    "# add time (3:15)\n",
    "hrs = 5.\n",
    "mins = 45.8\n",
    "\n",
    "min_ang = -1. * (mins / 60.) * 2 * math.pi\n",
    "hr_ang = -1. * (hrs / 12.) * 2 * math.pi + (min_ang / 12)\n",
    "min_ang += corr\n",
    "hr_ang += corr\n",
    "min_x = 0.9 * math.cos(min_ang)\n",
    "min_y = 0.9 * math.sin(min_ang)\n",
    "hr_x = 0.5 * math.cos(hr_ang)\n",
    "hr_y = 0.5 * math.sin(hr_ang)\n",
    "xs = [hr_x, 0.0, min_x]\n",
    "ys = [hr_y, 0.0, min_y]\n",
    "x, y = np.array([xs, ys])\n",
    "line = mlines.Line2D(x, y, lw=5., alpha=0.3)\n",
    "ax.add_line(line)\n",
    "\n",
    "# add minutes\n",
    "for i in range(60):\n",
    "    rad = i * math.pi / 30\n",
    "    x = math.cos(rad)\n",
    "    y = math.sin(rad)\n",
    "    line_hr = mlines.Line2D([x, 0.96 * x], [y, 0.96 * y], lw=1.)\n",
    "    ax.add_line(line_hr)\n",
    "\n",
    "# add hours\n",
    "for i in range(12):\n",
    "    rad = i * math.pi / 6\n",
    "    x = math.cos(rad)\n",
    "    y = math.sin(rad)\n",
    "    line_hr = mlines.Line2D([x, 0.94 * x], [y, 0.94 * y], lw=4.)\n",
    "    ax.add_line(line_hr)\n",
    "\n",
    "ax.set_xlim((-1.1, 1.1))\n",
    "ax.set_ylim((-1.1, 1.1))\n",
    "ax.set_xticks([])\n",
    "ax.set_yticks([])\n",
    "\n",
    "ax.axis('off')\n",
    "fig.savefig('clock_test.png', bbox_inches='tight')"
   ]
  },
  {
   "cell_type": "code",
   "execution_count": null,
   "metadata": {
    "collapsed": true
   },
   "outputs": [],
   "source": []
  }
 ],
 "metadata": {
  "kernelspec": {
   "display_name": "Python 3",
   "language": "python",
   "name": "python3"
  },
  "language_info": {
   "codemirror_mode": {
    "name": "ipython",
    "version": 3
   },
   "file_extension": ".py",
   "mimetype": "text/x-python",
   "name": "python",
   "nbconvert_exporter": "python",
   "pygments_lexer": "ipython3",
   "version": "3.6.1"
  }
 },
 "nbformat": 4,
 "nbformat_minor": 2
}
