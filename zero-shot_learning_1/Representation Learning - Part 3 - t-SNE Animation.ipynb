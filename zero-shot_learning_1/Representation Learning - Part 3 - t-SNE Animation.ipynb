{
 "cells": [
  {
   "cell_type": "markdown",
   "metadata": {},
   "source": [
    "# Representation Learning - Part 3 - t-SNE Animation\n",
    "\n",
    "We will now use the weights stored from the training routine v5a to generate feature vectors for each wet of weights stored. There will be used to create an animation showing how the model representation changes over the course of training."
   ]
  },
  {
   "cell_type": "code",
   "execution_count": 1,
   "metadata": {},
   "outputs": [
    {
     "name": "stderr",
     "output_type": "stream",
     "text": [
      "Using TensorFlow backend.\n"
     ]
    },
    {
     "name": "stdout",
     "output_type": "stream",
     "text": [
      "10000 test samples\n"
     ]
    }
   ],
   "source": [
    "from __future__ import print_function\n",
    "import keras\n",
    "from keras.datasets import cifar10\n",
    "from keras.preprocessing.image import ImageDataGenerator\n",
    "from keras.models import Sequential, Model\n",
    "from keras.layers import Dense, Activation, Flatten\n",
    "from keras.layers import Conv2D, MaxPooling2D, BatchNormalization\n",
    "\n",
    "\n",
    "# This time we will only use the test set:\n",
    "_, (x_test, y_test) = cifar10.load_data()\n",
    "x_test = x_test.astype('float32')\n",
    "x_test /= 255\n",
    "print(x_test.shape[0], 'test samples')\n",
    "\n",
    "y_test = np.asarray(y_test)\n",
    "print(y_test.shape[0], 'test labels')"
   ]
  },
  {
   "cell_type": "code",
   "execution_count": 2,
   "metadata": {
    "collapsed": true
   },
   "outputs": [],
   "source": [
    "model = Sequential()\n",
    "\n",
    "model.add(Conv2D(32, (3, 3), padding='same', input_shape=x_test.shape[1:], name='conv1'))\n",
    "model.add(BatchNormalization(axis=3, name='bn_conv1'))\n",
    "model.add(Activation('relu'))\n",
    "model.add(Conv2D(32, (3, 3), name='conv2'))\n",
    "model.add(BatchNormalization(axis=3, name='bn_conv2'))\n",
    "model.add(Activation('relu'))\n",
    "model.add(MaxPooling2D(pool_size=(2, 2)))\n",
    "\n",
    "model.add(Conv2D(64, (3, 3), padding='same', name='conv3'))\n",
    "model.add(BatchNormalization(axis=3, name='bn_conv3'))\n",
    "model.add(Activation('relu'))\n",
    "model.add(Conv2D(64, (3, 3), name='conv4'))\n",
    "model.add(BatchNormalization(axis=3, name='bn_conv4'))\n",
    "model.add(Activation('relu'))\n",
    "model.add(MaxPooling2D(pool_size=(2, 2)))\n",
    "\n",
    "model.add(Flatten())\n",
    "model.add(Dense(512, name='fc1'))\n",
    "model.add(BatchNormalization(axis=1, name='bn_fc1'))\n",
    "model.add(Activation('relu'))\n",
    "model.add(Dense(num_classes, name='output'))\n",
    "model.add(BatchNormalization(axis=1, name='bn_outptut'))\n",
    "model.add(Activation('softmax'))\n",
    "\n",
    "feat_extractor = Model(inputs=model.input, outputs=model.get_layer('fc1').output)"
   ]
  },
  {
   "cell_type": "code",
   "execution_count": 4,
   "metadata": {},
   "outputs": [],
   "source": [
    "import os\n",
    "import numpy as np\n",
    "\n",
    "out_dir = 'v5a-features'\n",
    "if not os.path.exists(out_dir):\n",
    "    os.makedirs(out_dir)\n",
    "\n",
    "weights_paths = [f for f in os.listdir('.') if f.startswith('v5a-weights')]\n",
    "\n",
    "for weights_path in weights_paths:\n",
    "    model.load_weights(weights_path)\n",
    "    features = feat_extractor.predict(x_test, batch_size=32)\n",
    "\n",
    "    np.save(os.path.join(out_dir, os.path.splitext(weights_path)[0] + 'fc1_features.npy'), features)"
   ]
  },
  {
   "cell_type": "markdown",
   "metadata": {},
   "source": [
    "## t-SNE with Default Settings - FC 1"
   ]
  },
  {
   "cell_type": "code",
   "execution_count": 5,
   "metadata": {
    "collapsed": true
   },
   "outputs": [],
   "source": [
    "from sklearn.manifold import TSNE\n",
    "\n",
    "for weights_path in weights_paths:\n",
    "    features = np.load(os.path.join(out_dir, os.path.splitext(weights_path)[0] + 'fc1_features.npy'))\n",
    "    tsne = TSNE().fit_transform(features)\n",
    "    np.save(os.path.join(out_dir, os.path.splitext(weights_path)[0] + 'fc1_features_tsne.npy'), tsne)"
   ]
  },
  {
   "cell_type": "markdown",
   "metadata": {},
   "source": [
    "## Store FC 1 t-SNE Visualizations"
   ]
  },
  {
   "cell_type": "code",
   "execution_count": 1,
   "metadata": {},
   "outputs": [
    {
     "name": "stderr",
     "output_type": "stream",
     "text": [
      "Using TensorFlow backend.\n"
     ]
    }
   ],
   "source": [
    "import os\n",
    "import numpy as np\n",
    "import matplotlib.pyplot as plt\n",
    "from keras.datasets import cifar10"
   ]
  },
  {
   "cell_type": "code",
   "execution_count": 2,
   "metadata": {
    "collapsed": true
   },
   "outputs": [],
   "source": [
    "def normalize(tsne):\n",
    "    tx, ty = tsne[:,0], tsne[:,1]\n",
    "    tx = (tx-np.min(tx)) / (np.max(tx) - np.min(tx))\n",
    "    ty = (ty-np.min(ty)) / (np.max(ty) - np.min(ty))\n",
    "    return tx, ty"
   ]
  },
  {
   "cell_type": "code",
   "execution_count": 3,
   "metadata": {},
   "outputs": [],
   "source": [
    "weights_paths = [f for f in os.listdir('.') if f.startswith('v5a-weights')]\n",
    "out_dir = 'v5a-features'\n",
    "\n",
    "filenames = [os.path.join(out_dir, os.path.splitext(weights_path)[0] + 'fc1_features_tsne.npy')\n",
    "             for weights_path in weights_paths]\n",
    "\n",
    "classes = ['airplane', 'automobile', 'bird', 'cat', 'deer', 'dog', 'frog', 'horse', 'ship', 'truck']\n",
    "\n",
    "# This time we will only use the test set:\n",
    "_, (x_test, y_test) = cifar10.load_data()\n",
    "y_test = np.asarray(y_test)"
   ]
  },
  {
   "cell_type": "code",
   "execution_count": 56,
   "metadata": {},
   "outputs": [
    {
     "name": "stderr",
     "output_type": "stream",
     "text": [
      "/home/phil/anaconda3/lib/python3.6/site-packages/matplotlib/pyplot.py:524: RuntimeWarning: More than 20 figures have been opened. Figures created through the pyplot interface (`matplotlib.pyplot.figure`) are retained until explicitly closed and may consume too much memory. (To control this warning, see the rcParam `figure.max_open_warning`).\n",
      "  max_open_warning, RuntimeWarning)\n"
     ]
    }
   ],
   "source": [
    "plt.close()\n",
    "\n",
    "for filename in filenames:\n",
    "    fig = plt.figure(figsize = (16,12))\n",
    "    ax = fig.add_subplot(111)\n",
    "\n",
    "    tsne = np.load(filename)\n",
    "    tx, ty = normalize(tsne)\n",
    "\n",
    "    for i in range(len(classes)):\n",
    "        y_i = y_test == i\n",
    "        plt.scatter(tx[y_i[:, 0]], ty[y_i[:, 0]], label=classes[i])\n",
    "    epoch_num = int(os.path.split(filename)[1][12:14])\n",
    "    label = 'Epoch {0}'.format(epoch_num)\n",
    "    ax.set_title(label)\n",
    "    plt.legend(loc=4)\n",
    "    plt.gca().invert_yaxis()\n",
    "    plt.savefig(os.path.splitext(filename)[0] + '.jpg', bbox_inches='tight')"
   ]
  },
  {
   "cell_type": "markdown",
   "metadata": {},
   "source": [
    "## Plot t-SNE Points as Animation"
   ]
  },
  {
   "cell_type": "code",
   "execution_count": 25,
   "metadata": {
    "collapsed": true
   },
   "outputs": [],
   "source": [
    "import sys\n",
    "import numpy as np\n",
    "import matplotlib.pyplot as plt\n",
    "from matplotlib.animation import FuncAnimation"
   ]
  },
  {
   "cell_type": "markdown",
   "metadata": {},
   "source": [
    "Check that we have the 'imagemagick' writer in order to save plots in GIF format."
   ]
  },
  {
   "cell_type": "code",
   "execution_count": 26,
   "metadata": {},
   "outputs": [
    {
     "data": {
      "text/plain": [
       "matplotlib.animation.ImageMagickWriter"
      ]
     },
     "execution_count": 26,
     "metadata": {},
     "output_type": "execute_result"
    }
   ],
   "source": [
    "import matplotlib.animation as animation\n",
    "animation.writers['imagemagick']"
   ]
  },
  {
   "cell_type": "code",
   "execution_count": 52,
   "metadata": {},
   "outputs": [],
   "source": [
    "fig = plt.figure(figsize = (8, 6))\n",
    "ax = plt.axes(xlim=(-0.1, 1.1), ylim=(-0.1, 1.1))\n",
    "line, = ax.plot([], [], 'ro')\n",
    "#fig.gca().invert_yaxis()\n",
    "\n",
    "filenames_sorted = sorted(filenames)\n",
    "\n",
    "def init():\n",
    "    line.set_data([], [])\n",
    "    return line,\n",
    "\n",
    "def update(i):\n",
    "    print(filenames_sorted[i])    \n",
    "    tsne = np.load(filenames_sorted[i])\n",
    "    tx, ty = normalize(tsne)\n",
    "    line.set_data(tx, ty)\n",
    "    \n",
    "    epoch_num = int(os.path.split(filenames_sorted[i])[1][12:14])\n",
    "    label = 'Epoch {0}'.format(epoch_num)\n",
    "    ax.set_xlabel(label)\n",
    "    return line,\n",
    "\n",
    "anim = animation.FuncAnimation(fig, update, init_func=init,\n",
    "                               frames=17, interval=100, blit=True)"
   ]
  },
  {
   "cell_type": "code",
   "execution_count": 53,
   "metadata": {},
   "outputs": [
    {
     "name": "stdout",
     "output_type": "stream",
     "text": [
      "v5a-features/v5a-weights.00-1.2060fc1_features_tsne.npy\n",
      "v5a-features/v5a-weights.01-0.9069fc1_features_tsne.npy\n",
      "v5a-features/v5a-weights.02-0.8789fc1_features_tsne.npy\n",
      "v5a-features/v5a-weights.03-0.7062fc1_features_tsne.npy\n",
      "v5a-features/v5a-weights.04-0.6751fc1_features_tsne.npy\n",
      "v5a-features/v5a-weights.05-0.6216fc1_features_tsne.npy\n",
      "v5a-features/v5a-weights.07-0.6170fc1_features_tsne.npy\n",
      "v5a-features/v5a-weights.08-0.5633fc1_features_tsne.npy\n",
      "v5a-features/v5a-weights.10-0.5433fc1_features_tsne.npy\n",
      "v5a-features/v5a-weights.11-0.4860fc1_features_tsne.npy\n",
      "v5a-features/v5a-weights.17-0.4610fc1_features_tsne.npy\n",
      "v5a-features/v5a-weights.20-0.4330fc1_features_tsne.npy\n",
      "v5a-features/v5a-weights.29-0.4031fc1_features_tsne.npy\n",
      "v5a-features/v5a-weights.36-0.4006fc1_features_tsne.npy\n",
      "v5a-features/v5a-weights.41-0.3978fc1_features_tsne.npy\n",
      "v5a-features/v5a-weights.48-0.3949fc1_features_tsne.npy\n",
      "v5a-features/v5a-weights.59-0.3879fc1_features_tsne.npy\n"
     ]
    }
   ],
   "source": [
    "anim.save('t-sne.gif', dpi=72, writer='imagemagick', fps=5)"
   ]
  },
  {
   "cell_type": "code",
   "execution_count": 41,
   "metadata": {},
   "outputs": [
    {
     "data": {
      "text/html": [
       "<img src=\"t-sne.gif\"/>"
      ],
      "text/plain": [
       "<IPython.core.display.Image object>"
      ]
     },
     "execution_count": 41,
     "metadata": {},
     "output_type": "execute_result"
    }
   ],
   "source": [
    "from IPython.display import HTML, Image\n",
    "\n",
    "Image(url='t-sne.gif')"
   ]
  },
  {
   "cell_type": "code",
   "execution_count": null,
   "metadata": {
    "collapsed": true
   },
   "outputs": [],
   "source": []
  }
 ],
 "metadata": {
  "kernelspec": {
   "display_name": "Python 3",
   "language": "python",
   "name": "python3"
  },
  "language_info": {
   "codemirror_mode": {
    "name": "ipython",
    "version": 3
   },
   "file_extension": ".py",
   "mimetype": "text/x-python",
   "name": "python",
   "nbconvert_exporter": "python",
   "pygments_lexer": "ipython3",
   "version": "3.6.1"
  }
 },
 "nbformat": 4,
 "nbformat_minor": 2
}
