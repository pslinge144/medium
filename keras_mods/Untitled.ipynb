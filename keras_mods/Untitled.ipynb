{
 "cells": [
  {
   "cell_type": "markdown",
   "metadata": {},
   "source": [
    "# Implementing Cutout in Keras\n",
    "\n",
    "The regularization technique of random erasing or cutout has been getting some press recently:\n",
    "https://arxiv.org/abs/1708.04896\n",
    "https://arxiv.org/abs/1708.04552\n",
    "\n",
    "However, this is not currently available as an image processing options in Keras. Here is how you do it."
   ]
  },
  {
   "cell_type": "markdown",
   "metadata": {},
   "source": [
    "## Preprocessing Function\n",
    "\n",
    "Keras provides a convenient means of applying cutom image processing routines. The ImageDataGenerator class has an argument, preprocessing_function, where you can provide the name of a custom processing method. Just be aware that whatever function you provide will be the first processing step performed, regardless of any other image processing options selected. This will not be a problem with cutout, provided that we take a few precautions."
   ]
  },
  {
   "cell_type": "markdown",
   "metadata": {},
   "source": [
    "## Numpy Tensor Dimension\n",
    "\n",
    "We are only required to satisfy two things: have the function take a rank 3 Numpy tensor as input and output a tensor of the same format. There is sometimes some ambiguity regarding the channel axis. You can always check the channel axis like so:"
   ]
  },
  {
   "cell_type": "code",
   "execution_count": 1,
   "metadata": {},
   "outputs": [
    {
     "name": "stderr",
     "output_type": "stream",
     "text": [
      "Using TensorFlow backend.\n"
     ]
    },
    {
     "data": {
      "text/plain": [
       "'channels_last'"
      ]
     },
     "execution_count": 1,
     "metadata": {},
     "output_type": "execute_result"
    }
   ],
   "source": [
    "from keras import backend as K\n",
    "\n",
    "K.image_data_format()"
   ]
  },
  {
   "cell_type": "markdown",
   "metadata": {},
   "source": [
    "However, if you use the "
   ]
  }
 ],
 "metadata": {
  "kernelspec": {
   "display_name": "Python 3",
   "language": "python",
   "name": "python3"
  },
  "language_info": {
   "codemirror_mode": {
    "name": "ipython",
    "version": 3
   },
   "file_extension": ".py",
   "mimetype": "text/x-python",
   "name": "python",
   "nbconvert_exporter": "python",
   "pygments_lexer": "ipython3",
   "version": "3.6.1"
  }
 },
 "nbformat": 4,
 "nbformat_minor": 2
}
